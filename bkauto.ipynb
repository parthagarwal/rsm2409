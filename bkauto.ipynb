{
 "cells": [
  {
   "cell_type": "markdown",
   "metadata": {},
   "source": [
    "# Case 3 - BK Auto"
   ]
  },
  {
   "cell_type": "markdown",
   "metadata": {},
   "source": [
    "Student: Parth Agarwal\n",
    "\n",
    "Student ID: 1001303127\n",
    "\n",
    "Course: RSM2409\n",
    "\n",
    "Professor: Dmitry Krass"
   ]
  },
  {
   "cell_type": "code",
   "execution_count": 54,
   "metadata": {},
   "outputs": [],
   "source": [
    "import pandas as pd\n",
    "import numpy as np\n",
    "import matplotlib.pyplot as plt\n",
    "import seaborn as sns\n",
    "\n",
    "from sklearn.model_selection import train_test_split\n",
    "from datetime import date\n",
    "from sklearn.linear_model import LinearRegression,Lasso, Ridge, LassoCV, BayesianRidge\n",
    "import statsmodels.formula.api as sm\n",
    "from dmba import regressionSummary, exhaustive_search\n",
    "from dmba import backward_elimination, forward_selection, stepwise_selection\n",
    "from dmba import adjusted_r2_score, AIC_score, BIC_score\n",
    "\n",
    "np.set_printoptions(precision=5)"
   ]
  },
  {
   "cell_type": "markdown",
   "metadata": {},
   "source": [
    "## Data exploration"
   ]
  },
  {
   "cell_type": "markdown",
   "metadata": {},
   "source": [
    "Read in 'bkauto.csv'. `RepairCost` column has NAs and these are filled in as 0, indicating no repairs were done.\n",
    "\n",
    "Two columns have no `TerminationDate` and they were dropped for ease of handling the rest of the data."
   ]
  },
  {
   "cell_type": "code",
   "execution_count": 55,
   "metadata": {},
   "outputs": [],
   "source": [
    "df = pd.read_csv('bkauto.csv',na_values=['#VALUE!'],parse_dates=['ContractStartDate','TerminationDate','SaleDate'])\n",
    "df['RepairCost'] = df['RepairCost'].fillna(0)\n",
    "df['TerminationType'] = df['TerminationType'].str.replace(' ', '_')\n",
    "df=df.rename(columns={'CarAccident?':'CarAccident'})\n",
    "df = df.dropna()"
   ]
  },
  {
   "cell_type": "code",
   "execution_count": 56,
   "metadata": {},
   "outputs": [
    {
     "name": "stdout",
     "output_type": "stream",
     "text": [
      "<class 'pandas.core.frame.DataFrame'>\n",
      "Int64Index: 17367 entries, 0 to 17368\n",
      "Data columns (total 15 columns):\n",
      " #   Column             Non-Null Count  Dtype         \n",
      "---  ------             --------------  -----         \n",
      " 0   VIN_#              17367 non-null  int64         \n",
      " 1   ContractStartDate  17367 non-null  datetime64[ns]\n",
      " 2   TerminationDate    17367 non-null  datetime64[ns]\n",
      " 3   SaleDate           17367 non-null  datetime64[ns]\n",
      " 4   TerminationType    17367 non-null  object        \n",
      " 5   PurchasingRegion   17367 non-null  int64         \n",
      " 6   ModelYear          17367 non-null  int64         \n",
      " 7   TrimName           17367 non-null  object        \n",
      " 8   ModelName          17367 non-null  object        \n",
      " 9   SalesChannel       17367 non-null  object        \n",
      " 10  CarAccident        17367 non-null  object        \n",
      " 11  RepairCost         17367 non-null  float64       \n",
      " 12  Odometer           17367 non-null  int64         \n",
      " 13  PurchasePrice      17367 non-null  int64         \n",
      " 14  MSRP               17367 non-null  int64         \n",
      "dtypes: datetime64[ns](3), float64(1), int64(6), object(5)\n",
      "memory usage: 2.1+ MB\n"
     ]
    }
   ],
   "source": [
    "df.info()"
   ]
  },
  {
   "cell_type": "code",
   "execution_count": 57,
   "metadata": {},
   "outputs": [
    {
     "data": {
      "text/html": [
       "<div>\n",
       "<style scoped>\n",
       "    .dataframe tbody tr th:only-of-type {\n",
       "        vertical-align: middle;\n",
       "    }\n",
       "\n",
       "    .dataframe tbody tr th {\n",
       "        vertical-align: top;\n",
       "    }\n",
       "\n",
       "    .dataframe thead th {\n",
       "        text-align: right;\n",
       "    }\n",
       "</style>\n",
       "<table border=\"1\" class=\"dataframe\">\n",
       "  <thead>\n",
       "    <tr style=\"text-align: right;\">\n",
       "      <th></th>\n",
       "      <th>VIN_#</th>\n",
       "      <th>ContractStartDate</th>\n",
       "      <th>TerminationDate</th>\n",
       "      <th>SaleDate</th>\n",
       "      <th>TerminationType</th>\n",
       "      <th>PurchasingRegion</th>\n",
       "      <th>ModelYear</th>\n",
       "      <th>TrimName</th>\n",
       "      <th>ModelName</th>\n",
       "      <th>SalesChannel</th>\n",
       "      <th>CarAccident</th>\n",
       "      <th>RepairCost</th>\n",
       "      <th>Odometer</th>\n",
       "      <th>PurchasePrice</th>\n",
       "      <th>MSRP</th>\n",
       "      <th>RealizedValue</th>\n",
       "      <th>Age</th>\n",
       "      <th>YearsDriven</th>\n",
       "    </tr>\n",
       "  </thead>\n",
       "  <tbody>\n",
       "    <tr>\n",
       "      <th>0</th>\n",
       "      <td>6428</td>\n",
       "      <td>2014-09-30</td>\n",
       "      <td>2018-08-31</td>\n",
       "      <td>2018-10-31</td>\n",
       "      <td>Terminated_at_End_of_Maturity</td>\n",
       "      <td>3</td>\n",
       "      <td>2001</td>\n",
       "      <td>TRIM_2</td>\n",
       "      <td>MODEL_C</td>\n",
       "      <td>H</td>\n",
       "      <td>Mild</td>\n",
       "      <td>500.0</td>\n",
       "      <td>61000</td>\n",
       "      <td>17000</td>\n",
       "      <td>41000</td>\n",
       "      <td>2.411765</td>\n",
       "      <td>21</td>\n",
       "      <td>3.920548</td>\n",
       "    </tr>\n",
       "    <tr>\n",
       "      <th>1</th>\n",
       "      <td>6429</td>\n",
       "      <td>2014-09-30</td>\n",
       "      <td>2018-02-28</td>\n",
       "      <td>2018-03-31</td>\n",
       "      <td>Terminated_at_End_of_Maturity</td>\n",
       "      <td>3</td>\n",
       "      <td>2001</td>\n",
       "      <td>TRIM_2</td>\n",
       "      <td>MODEL_C</td>\n",
       "      <td>H</td>\n",
       "      <td>No</td>\n",
       "      <td>400.0</td>\n",
       "      <td>76000</td>\n",
       "      <td>16000</td>\n",
       "      <td>40000</td>\n",
       "      <td>2.500000</td>\n",
       "      <td>21</td>\n",
       "      <td>3.416438</td>\n",
       "    </tr>\n",
       "    <tr>\n",
       "      <th>2</th>\n",
       "      <td>6430</td>\n",
       "      <td>2014-11-30</td>\n",
       "      <td>2018-11-30</td>\n",
       "      <td>2018-12-31</td>\n",
       "      <td>Terminated_at_End_of_Maturity</td>\n",
       "      <td>2</td>\n",
       "      <td>2001</td>\n",
       "      <td>TRIM_2</td>\n",
       "      <td>MODEL_C</td>\n",
       "      <td>E</td>\n",
       "      <td>Major</td>\n",
       "      <td>0.0</td>\n",
       "      <td>50000</td>\n",
       "      <td>16000</td>\n",
       "      <td>36000</td>\n",
       "      <td>2.250000</td>\n",
       "      <td>21</td>\n",
       "      <td>4.002740</td>\n",
       "    </tr>\n",
       "    <tr>\n",
       "      <th>3</th>\n",
       "      <td>6431</td>\n",
       "      <td>2014-10-31</td>\n",
       "      <td>2018-10-31</td>\n",
       "      <td>2018-11-30</td>\n",
       "      <td>Terminated_at_End_of_Maturity</td>\n",
       "      <td>2</td>\n",
       "      <td>2001</td>\n",
       "      <td>TRIM_2</td>\n",
       "      <td>MODEL_C</td>\n",
       "      <td>F</td>\n",
       "      <td>No</td>\n",
       "      <td>0.0</td>\n",
       "      <td>47000</td>\n",
       "      <td>18000</td>\n",
       "      <td>40000</td>\n",
       "      <td>2.222222</td>\n",
       "      <td>21</td>\n",
       "      <td>4.002740</td>\n",
       "    </tr>\n",
       "    <tr>\n",
       "      <th>4</th>\n",
       "      <td>6432</td>\n",
       "      <td>2014-10-31</td>\n",
       "      <td>2018-10-31</td>\n",
       "      <td>2018-10-31</td>\n",
       "      <td>Terminated_at_End_of_Maturity</td>\n",
       "      <td>2</td>\n",
       "      <td>2001</td>\n",
       "      <td>TRIM_2</td>\n",
       "      <td>MODEL_C</td>\n",
       "      <td>G</td>\n",
       "      <td>Moderate</td>\n",
       "      <td>0.0</td>\n",
       "      <td>75000</td>\n",
       "      <td>14000</td>\n",
       "      <td>36000</td>\n",
       "      <td>2.571429</td>\n",
       "      <td>21</td>\n",
       "      <td>4.002740</td>\n",
       "    </tr>\n",
       "  </tbody>\n",
       "</table>\n",
       "</div>"
      ],
      "text/plain": [
       "   VIN_# ContractStartDate TerminationDate   SaleDate  \\\n",
       "0   6428        2014-09-30      2018-08-31 2018-10-31   \n",
       "1   6429        2014-09-30      2018-02-28 2018-03-31   \n",
       "2   6430        2014-11-30      2018-11-30 2018-12-31   \n",
       "3   6431        2014-10-31      2018-10-31 2018-11-30   \n",
       "4   6432        2014-10-31      2018-10-31 2018-10-31   \n",
       "\n",
       "                 TerminationType  PurchasingRegion  ModelYear TrimName  \\\n",
       "0  Terminated_at_End_of_Maturity                 3       2001   TRIM_2   \n",
       "1  Terminated_at_End_of_Maturity                 3       2001   TRIM_2   \n",
       "2  Terminated_at_End_of_Maturity                 2       2001   TRIM_2   \n",
       "3  Terminated_at_End_of_Maturity                 2       2001   TRIM_2   \n",
       "4  Terminated_at_End_of_Maturity                 2       2001   TRIM_2   \n",
       "\n",
       "  ModelName SalesChannel CarAccident  RepairCost  Odometer  PurchasePrice  \\\n",
       "0   MODEL_C            H        Mild       500.0     61000          17000   \n",
       "1   MODEL_C            H          No       400.0     76000          16000   \n",
       "2   MODEL_C            E       Major         0.0     50000          16000   \n",
       "3   MODEL_C            F          No         0.0     47000          18000   \n",
       "4   MODEL_C            G    Moderate         0.0     75000          14000   \n",
       "\n",
       "    MSRP  RealizedValue  Age  YearsDriven  \n",
       "0  41000       2.411765   21     3.920548  \n",
       "1  40000       2.500000   21     3.416438  \n",
       "2  36000       2.250000   21     4.002740  \n",
       "3  40000       2.222222   21     4.002740  \n",
       "4  36000       2.571429   21     4.002740  "
      ]
     },
     "execution_count": 57,
     "metadata": {},
     "output_type": "execute_result"
    }
   ],
   "source": [
    "df['RealizedValue'] = df['MSRP']/df['PurchasePrice']\n",
    "df['Age'] = date.today().year - df['ModelYear']\n",
    "df['YearsDriven'] = (df['TerminationDate'] - df['ContractStartDate']).dt.days/365\n",
    "df.head()"
   ]
  },
  {
   "cell_type": "code",
   "execution_count": 58,
   "metadata": {},
   "outputs": [
    {
     "data": {
      "text/html": [
       "<div>\n",
       "<style scoped>\n",
       "    .dataframe tbody tr th:only-of-type {\n",
       "        vertical-align: middle;\n",
       "    }\n",
       "\n",
       "    .dataframe tbody tr th {\n",
       "        vertical-align: top;\n",
       "    }\n",
       "\n",
       "    .dataframe thead th {\n",
       "        text-align: right;\n",
       "    }\n",
       "</style>\n",
       "<table border=\"1\" class=\"dataframe\">\n",
       "  <thead>\n",
       "    <tr style=\"text-align: right;\">\n",
       "      <th></th>\n",
       "      <th>RepairCost</th>\n",
       "      <th>Odometer</th>\n",
       "      <th>PurchasePrice</th>\n",
       "      <th>MSRP</th>\n",
       "      <th>RealizedValue</th>\n",
       "      <th>Age</th>\n",
       "      <th>YearsDriven</th>\n",
       "    </tr>\n",
       "    <tr>\n",
       "      <th>SaleDate</th>\n",
       "      <th></th>\n",
       "      <th></th>\n",
       "      <th></th>\n",
       "      <th></th>\n",
       "      <th></th>\n",
       "      <th></th>\n",
       "      <th></th>\n",
       "    </tr>\n",
       "  </thead>\n",
       "  <tbody>\n",
       "    <tr>\n",
       "      <th>2016</th>\n",
       "      <td>186.206897</td>\n",
       "      <td>43948.275862</td>\n",
       "      <td>24620.689655</td>\n",
       "      <td>47982.758621</td>\n",
       "      <td>2.006723</td>\n",
       "      <td>21.741379</td>\n",
       "      <td>2.555503</td>\n",
       "    </tr>\n",
       "    <tr>\n",
       "      <th>2017</th>\n",
       "      <td>197.703549</td>\n",
       "      <td>51044.189283</td>\n",
       "      <td>22218.510786</td>\n",
       "      <td>47527.139875</td>\n",
       "      <td>2.198168</td>\n",
       "      <td>21.815936</td>\n",
       "      <td>3.070704</td>\n",
       "    </tr>\n",
       "    <tr>\n",
       "      <th>2018</th>\n",
       "      <td>213.233523</td>\n",
       "      <td>57320.426777</td>\n",
       "      <td>19408.707623</td>\n",
       "      <td>46777.663053</td>\n",
       "      <td>2.469165</td>\n",
       "      <td>21.583204</td>\n",
       "      <td>3.598834</td>\n",
       "    </tr>\n",
       "    <tr>\n",
       "      <th>2019</th>\n",
       "      <td>262.934216</td>\n",
       "      <td>54969.589006</td>\n",
       "      <td>19595.113882</td>\n",
       "      <td>49427.153582</td>\n",
       "      <td>2.602040</td>\n",
       "      <td>20.520550</td>\n",
       "      <td>3.429903</td>\n",
       "    </tr>\n",
       "    <tr>\n",
       "      <th>2020</th>\n",
       "      <td>165.490196</td>\n",
       "      <td>54819.607843</td>\n",
       "      <td>19192.156863</td>\n",
       "      <td>51698.039216</td>\n",
       "      <td>2.779087</td>\n",
       "      <td>19.839216</td>\n",
       "      <td>3.483273</td>\n",
       "    </tr>\n",
       "  </tbody>\n",
       "</table>\n",
       "</div>"
      ],
      "text/plain": [
       "          RepairCost      Odometer  PurchasePrice          MSRP  \\\n",
       "SaleDate                                                          \n",
       "2016      186.206897  43948.275862   24620.689655  47982.758621   \n",
       "2017      197.703549  51044.189283   22218.510786  47527.139875   \n",
       "2018      213.233523  57320.426777   19408.707623  46777.663053   \n",
       "2019      262.934216  54969.589006   19595.113882  49427.153582   \n",
       "2020      165.490196  54819.607843   19192.156863  51698.039216   \n",
       "\n",
       "          RealizedValue        Age  YearsDriven  \n",
       "SaleDate                                         \n",
       "2016           2.006723  21.741379     2.555503  \n",
       "2017           2.198168  21.815936     3.070704  \n",
       "2018           2.469165  21.583204     3.598834  \n",
       "2019           2.602040  20.520550     3.429903  \n",
       "2020           2.779087  19.839216     3.483273  "
      ]
     },
     "execution_count": 58,
     "metadata": {},
     "output_type": "execute_result"
    }
   ],
   "source": [
    "df_by_year = df.groupby(df['SaleDate'].dt.year).mean().drop(columns=['VIN_#','PurchasingRegion','ModelYear'])\n",
    "df_by_year.head()"
   ]
  },
  {
   "cell_type": "markdown",
   "metadata": {},
   "source": [
    "Plots of various parameters by year."
   ]
  },
  {
   "cell_type": "code",
   "execution_count": 59,
   "metadata": {},
   "outputs": [
    {
     "data": {
      "image/png": "[encoded data removed]",
      "text/plain": [
       "<Figure size 1600x500 with 9 Axes>"
      ]
     },
     "metadata": {},
     "output_type": "display_data"
    }
   ],
   "source": [
    "df_by_year.plot(layout=(3,3),subplots=True,figsize=(16,5))\n",
    "plt.show()"
   ]
  },
  {
   "cell_type": "markdown",
   "metadata": {},
   "source": [
    "Histogram plot for shortlisted predictors shows relatively normally distributions for `RealizedValue` and key variables."
   ]
  },
  {
   "cell_type": "code",
   "execution_count": 60,
   "metadata": {},
   "outputs": [
    {
     "data": {
      "image/png": "[encoded data removed]",
      "text/plain": [
       "<Figure size 2000x500 with 3 Axes>"
      ]
     },
     "metadata": {},
     "output_type": "display_data"
    }
   ],
   "source": [
    "df[['RealizedValue','PurchasePrice','MSRP']].plot.density(layout=(1,3),subplots=True,figsize=(20,5),sharex=False, sharey=False)\n",
    "plt.show()"
   ]
  },
  {
   "cell_type": "markdown",
   "metadata": {},
   "source": [
    "## Data analysis"
   ]
  },
  {
   "cell_type": "markdown",
   "metadata": {},
   "source": [
    "Partition data into `training` and `validation` with a 50/50 split."
   ]
  },
  {
   "cell_type": "code",
   "execution_count": 61,
   "metadata": {},
   "outputs": [
    {
     "name": "stdout",
     "output_type": "stream",
     "text": [
      "Training   :  (8683, 37)\n",
      "Validation :  (8684, 37)\n"
     ]
    }
   ],
   "source": [
    "predictors=['TerminationType', 'PurchasingRegion', 'TrimName', 'ModelName', 'SalesChannel', 'CarAccident', 'RepairCost', 'Odometer', 'Age', 'YearsDriven']\n",
    "outcome = 'RealizedValue'\n",
    "\n",
    "# partition data\n",
    "X = pd.get_dummies(df[predictors], drop_first=True)\n",
    "y = df[outcome]\n",
    "train_X, valid_X, train_y, valid_y = train_test_split(X, y, test_size=0.5,random_state=1)\n",
    "print(\"Training   : \", train_X.shape)\n",
    "print(\"Validation : \", valid_X.shape)"
   ]
  },
  {
   "cell_type": "markdown",
   "metadata": {},
   "source": [
    "Various models are shown below with similar performance - backward selection is chosen and the rest of the options are minimized.\n",
    "- With all variables\n",
    "- Forward selection\n",
    "- Stepwise selection\n",
    "- Lasso regression\n",
    "- Ridge regression\n",
    "- Backward selection"
   ]
  },
  {
   "cell_type": "markdown",
   "metadata": {},
   "source": [
    "### Regression on all variables"
   ]
  },
  {
   "cell_type": "code",
   "execution_count": 62,
   "metadata": {},
   "outputs": [
    {
     "name": "stdout",
     "output_type": "stream",
     "text": [
      "\n",
      "Regression statistics\n",
      "\n",
      "                      Mean Error (ME) : 0.0000\n",
      "       Root Mean Squared Error (RMSE) : 0.2893\n",
      "            Mean Absolute Error (MAE) : 0.2122\n",
      "          Mean Percentage Error (MPE) : -1.0827\n",
      "Mean Absolute Percentage Error (MAPE) : 8.4985\n",
      "Intercept: 3.2693 \n",
      "R^2: 0.56145\n"
     ]
    }
   ],
   "source": [
    "lm = LinearRegression()\n",
    "lm.fit(train_X, train_y)\n",
    "\n",
    "regressionSummary(train_y, lm.predict(train_X))\n",
    "print('Intercept: {:.5} \\nR^2: {:.5}'.format(lm.intercept_,lm.score(X, y)))"
   ]
  },
  {
   "cell_type": "markdown",
   "metadata": {},
   "source": [
    "### Forward selection"
   ]
  },
  {
   "cell_type": "code",
   "execution_count": 63,
   "metadata": {},
   "outputs": [
    {
     "name": "stdout",
     "output_type": "stream",
     "text": [
      "['Odometer', 'YearsDriven', 'ModelName_MODEL_B', 'SalesChannel_H', 'Age', 'ModelName_MODEL_C', 'CarAccident_No', 'TrimName_TRIM_8', 'TrimName_TRIM_18', 'CarAccident_Moderate', 'SalesChannel_G', 'CarAccident_Mild', 'PurchasingRegion', 'TrimName_TRIM_15', 'TrimName_TRIM_2', 'TrimName_TRIM_7', 'TrimName_TRIM_3', 'SalesChannel_F', 'RepairCost', 'TrimName_TRIM_16', 'TrimName_TRIM_19', 'TrimName_TRIM_12', 'TrimName_TRIM_4', 'TrimName_TRIM_5', 'SalesChannel_D', 'SalesChannel_B', 'TrimName_TRIM_9', 'TrimName_TRIM_14']\n",
      "\n",
      "Regression statistics\n",
      "\n",
      "                      Mean Error (ME) : 0.0067\n",
      "       Root Mean Squared Error (RMSE) : 0.3688\n",
      "            Mean Absolute Error (MAE) : 0.2218\n",
      "          Mean Percentage Error (MPE) : -0.9553\n",
      "Mean Absolute Percentage Error (MAPE) : 8.7802\n"
     ]
    }
   ],
   "source": [
    "def train_model(variables):\n",
    "    if len(variables) == 0:\n",
    "        return None\n",
    "    model = LinearRegression()\n",
    "    model.fit(train_X[variables], train_y)\n",
    "    return model\n",
    "def score_model(model, variables):\n",
    "    if len(variables) == 0:\n",
    "        return AIC_score(train_y, [train_y.mean()] * len(train_y), model, df=1)\n",
    "    return AIC_score(train_y, model.predict(train_X[variables]), model)\n",
    "\n",
    "best_model, best_variables = forward_selection(train_X.columns, train_model,score_model,verbose=False)\n",
    "print(best_variables)\n",
    "regressionSummary(valid_y, best_model.predict(valid_X[best_variables]))"
   ]
  },
  {
   "cell_type": "markdown",
   "metadata": {},
   "source": [
    "### Stepwise selection"
   ]
  },
  {
   "cell_type": "code",
   "execution_count": 64,
   "metadata": {},
   "outputs": [
    {
     "name": "stdout",
     "output_type": "stream",
     "text": [
      "['Odometer', 'YearsDriven', 'ModelName_MODEL_B', 'SalesChannel_H', 'Age', 'ModelName_MODEL_C', 'CarAccident_No', 'TrimName_TRIM_8', 'TrimName_TRIM_18', 'CarAccident_Moderate', 'SalesChannel_G', 'CarAccident_Mild', 'PurchasingRegion', 'TrimName_TRIM_15', 'TrimName_TRIM_2', 'TrimName_TRIM_7', 'TrimName_TRIM_3', 'SalesChannel_F', 'RepairCost', 'TrimName_TRIM_16', 'TrimName_TRIM_19', 'TrimName_TRIM_12', 'TrimName_TRIM_4', 'TrimName_TRIM_5', 'SalesChannel_D', 'SalesChannel_B', 'TrimName_TRIM_9', 'TrimName_TRIM_14']\n",
      "\n",
      "Regression statistics\n",
      "\n",
      "                      Mean Error (ME) : 0.0067\n",
      "       Root Mean Squared Error (RMSE) : 0.3688\n",
      "            Mean Absolute Error (MAE) : 0.2218\n",
      "          Mean Percentage Error (MPE) : -0.9553\n",
      "Mean Absolute Percentage Error (MAPE) : 8.7802\n"
     ]
    }
   ],
   "source": [
    "best_model, best_variables = stepwise_selection(train_X.columns, train_model,score_model, verbose=False)\n",
    "print(best_variables)\n",
    "regressionSummary(valid_y, best_model.predict(valid_X[best_variables]))"
   ]
  },
  {
   "cell_type": "markdown",
   "metadata": {},
   "source": [
    "### Lasso regression"
   ]
  },
  {
   "cell_type": "code",
   "execution_count": 65,
   "metadata": {},
   "outputs": [
    {
     "name": "stdout",
     "output_type": "stream",
     "text": [
      "\n",
      "Regression statistics\n",
      "\n",
      "                      Mean Error (ME) : 0.0051\n",
      "       Root Mean Squared Error (RMSE) : 0.5234\n",
      "            Mean Absolute Error (MAE) : 0.3639\n",
      "          Mean Percentage Error (MPE) : -3.4735\n",
      "Mean Absolute Percentage Error (MAPE) : 15.0098\n"
     ]
    }
   ],
   "source": [
    "lasso = Lasso(normalize=True, alpha=1)\n",
    "lasso.fit(train_X, train_y)\n",
    "regressionSummary(valid_y, lasso.predict(valid_X))"
   ]
  },
  {
   "cell_type": "markdown",
   "metadata": {},
   "source": [
    "### Ridge regression"
   ]
  },
  {
   "cell_type": "code",
   "execution_count": 66,
   "metadata": {},
   "outputs": [
    {
     "name": "stdout",
     "output_type": "stream",
     "text": [
      "\n",
      "Regression statistics\n",
      "\n",
      "                      Mean Error (ME) : 0.0068\n",
      "       Root Mean Squared Error (RMSE) : 0.3686\n",
      "            Mean Absolute Error (MAE) : 0.2219\n",
      "          Mean Percentage Error (MPE) : -0.9590\n",
      "Mean Absolute Percentage Error (MAPE) : 8.7845\n",
      "Bayesian ridge chosen regularization: 0.00220\n"
     ]
    }
   ],
   "source": [
    "bayesianRidge = BayesianRidge(normalize=True)\n",
    "bayesianRidge.fit(train_X, train_y)\n",
    "regressionSummary(valid_y, bayesianRidge.predict(valid_X))\n",
    "alpha = bayesianRidge.lambda_ / bayesianRidge.alpha_\n",
    "print('Bayesian ridge chosen regularization: {:.5f}'.format(alpha))"
   ]
  },
  {
   "cell_type": "markdown",
   "metadata": {},
   "source": [
    "### Backward selection"
   ]
  },
  {
   "cell_type": "code",
   "execution_count": 67,
   "metadata": {},
   "outputs": [
    {
     "name": "stdout",
     "output_type": "stream",
     "text": [
      "['PurchasingRegion', 'RepairCost', 'Odometer', 'Age', 'YearsDriven', 'TerminationType_Terminated_Prior_to_Maturity_Date', 'TerminationType_Terminated_at_End_of_Maturity', 'TrimName_TRIM_12', 'TrimName_TRIM_14', 'TrimName_TRIM_15', 'TrimName_TRIM_16', 'TrimName_TRIM_18', 'TrimName_TRIM_19', 'TrimName_TRIM_2', 'TrimName_TRIM_3', 'TrimName_TRIM_4', 'TrimName_TRIM_5', 'TrimName_TRIM_7', 'TrimName_TRIM_8', 'TrimName_TRIM_9', 'ModelName_MODEL_B', 'ModelName_MODEL_C', 'SalesChannel_B', 'SalesChannel_D', 'SalesChannel_F', 'SalesChannel_G', 'SalesChannel_H', 'CarAccident_Mild', 'CarAccident_Moderate', 'CarAccident_No']\n",
      "\n",
      "Regression statistics\n",
      "\n",
      "                      Mean Error (ME) : 0.0067\n",
      "       Root Mean Squared Error (RMSE) : 0.3687\n",
      "            Mean Absolute Error (MAE) : 0.2220\n",
      "          Mean Percentage Error (MPE) : -0.9553\n",
      "Mean Absolute Percentage Error (MAPE) : 8.7900\n"
     ]
    }
   ],
   "source": [
    "def train_model(variables):\n",
    "    model = LinearRegression()\n",
    "    model.fit(train_X[variables], train_y)\n",
    "    return model\n",
    "def score_model(model, variables):\n",
    "    return AIC_score(train_y, model.predict(train_X[variables]), model)\n",
    "    \n",
    "allVariables = train_X.columns\n",
    "best_model, best_variables = backward_elimination(allVariables, train_model,score_model, verbose=False)\n",
    "print(best_variables)\n",
    "\n",
    "regressionSummary(valid_y, best_model.predict(valid_X[best_variables]))"
   ]
  },
  {
   "cell_type": "markdown",
   "metadata": {},
   "source": [
    "### OLS Regression"
   ]
  },
  {
   "cell_type": "markdown",
   "metadata": {},
   "source": [
    "Linear regression is run using the reduced predictor set derived from backwards selection. The Adj. R^2 value is good, and all of the predictors in this set are significant below 5%.\n",
    "\n",
    "\n",
    "The coefficients and their signage are reasonable. Higher t-values indicate higher predictor strength. The highest t-values are the `odometer`, `years driven`, and `age`. Higher mileage, more years driven, and higher age indicate higher realized value, which are intuitively the opposite for the car’s resale value.\n",
    "\n",
    "\n",
    "It should be noted that car model B and C have fairly high coefficients (their coefficients can be compared since they are dummy variables and therefore standardized). Model B appears to be a positive predictor for realized value, and model C a negative predictor."
   ]
  },
  {
   "cell_type": "code",
   "execution_count": 68,
   "metadata": {},
   "outputs": [
    {
     "data": {
      "text/html": [
       "<table class=\"simpletable\">\n",
       "<caption>OLS Regression Results</caption>\n",
       "<tr>\n",
       "  <th>Dep. Variable:</th>      <td>RealizedValue</td>  <th>  R-squared:         </th> <td>   0.631</td>\n",
       "</tr>\n",
       "<tr>\n",
       "  <th>Model:</th>                   <td>OLS</td>       <th>  Adj. R-squared:    </th> <td>   0.630</td>\n",
       "</tr>\n",
       "<tr>\n",
       "  <th>Method:</th>             <td>Least Squares</td>  <th>  F-statistic:       </th> <td>   493.0</td>\n",
       "</tr>\n",
       "<tr>\n",
       "  <th>Date:</th>             <td>Thu, 24 Nov 2022</td> <th>  Prob (F-statistic):</th>  <td>  0.00</td> \n",
       "</tr>\n",
       "<tr>\n",
       "  <th>Time:</th>                 <td>01:08:24</td>     <th>  Log-Likelihood:    </th> <td> -1551.7</td>\n",
       "</tr>\n",
       "<tr>\n",
       "  <th>No. Observations:</th>      <td>  8683</td>      <th>  AIC:               </th> <td>   3165.</td>\n",
       "</tr>\n",
       "<tr>\n",
       "  <th>Df Residuals:</th>          <td>  8652</td>      <th>  BIC:               </th> <td>   3385.</td>\n",
       "</tr>\n",
       "<tr>\n",
       "  <th>Df Model:</th>              <td>    30</td>      <th>                     </th>     <td> </td>   \n",
       "</tr>\n",
       "<tr>\n",
       "  <th>Covariance Type:</th>      <td>nonrobust</td>    <th>                     </th>     <td> </td>   \n",
       "</tr>\n",
       "</table>\n",
       "<table class=\"simpletable\">\n",
       "<tr>\n",
       "                          <td></td>                             <th>coef</th>     <th>std err</th>      <th>t</th>      <th>P>|t|</th>  <th>[0.025</th>    <th>0.975]</th>  \n",
       "</tr>\n",
       "<tr>\n",
       "  <th>Intercept</th>                                         <td>    3.2676</td> <td>    0.088</td> <td>   37.097</td> <td> 0.000</td> <td>    3.095</td> <td>    3.440</td>\n",
       "</tr>\n",
       "<tr>\n",
       "  <th>PurchasingRegion</th>                                  <td>    0.0405</td> <td>    0.008</td> <td>    5.213</td> <td> 0.000</td> <td>    0.025</td> <td>    0.056</td>\n",
       "</tr>\n",
       "<tr>\n",
       "  <th>RepairCost</th>                                        <td>-2.338e-05</td> <td> 9.12e-06</td> <td>   -2.564</td> <td> 0.010</td> <td>-4.12e-05</td> <td>-5.51e-06</td>\n",
       "</tr>\n",
       "<tr>\n",
       "  <th>Odometer</th>                                          <td> 8.886e-06</td> <td> 1.64e-07</td> <td>   54.203</td> <td> 0.000</td> <td> 8.56e-06</td> <td> 9.21e-06</td>\n",
       "</tr>\n",
       "<tr>\n",
       "  <th>Age</th>                                               <td>   -0.1190</td> <td>    0.004</td> <td>  -28.724</td> <td> 0.000</td> <td>   -0.127</td> <td>   -0.111</td>\n",
       "</tr>\n",
       "<tr>\n",
       "  <th>YearsDriven</th>                                       <td>    0.3715</td> <td>    0.006</td> <td>   58.527</td> <td> 0.000</td> <td>    0.359</td> <td>    0.384</td>\n",
       "</tr>\n",
       "<tr>\n",
       "  <th>TerminationType_Terminated_Prior_to_Maturity_Date</th> <td>   -0.0720</td> <td>    0.025</td> <td>   -2.866</td> <td> 0.004</td> <td>   -0.121</td> <td>   -0.023</td>\n",
       "</tr>\n",
       "<tr>\n",
       "  <th>TerminationType_Terminated_at_End_of_Maturity</th>     <td>   -0.0634</td> <td>    0.025</td> <td>   -2.573</td> <td> 0.010</td> <td>   -0.112</td> <td>   -0.015</td>\n",
       "</tr>\n",
       "<tr>\n",
       "  <th>TrimName_TRIM_12</th>                                  <td>   -0.0622</td> <td>    0.026</td> <td>   -2.365</td> <td> 0.018</td> <td>   -0.114</td> <td>   -0.011</td>\n",
       "</tr>\n",
       "<tr>\n",
       "  <th>TrimName_TRIM_14</th>                                  <td>    0.0724</td> <td>    0.050</td> <td>    1.448</td> <td> 0.148</td> <td>   -0.026</td> <td>    0.170</td>\n",
       "</tr>\n",
       "<tr>\n",
       "  <th>TrimName_TRIM_15</th>                                  <td>   -0.1996</td> <td>    0.036</td> <td>   -5.596</td> <td> 0.000</td> <td>   -0.269</td> <td>   -0.130</td>\n",
       "</tr>\n",
       "<tr>\n",
       "  <th>TrimName_TRIM_16</th>                                  <td>   -0.5139</td> <td>    0.206</td> <td>   -2.500</td> <td> 0.012</td> <td>   -0.917</td> <td>   -0.111</td>\n",
       "</tr>\n",
       "<tr>\n",
       "  <th>TrimName_TRIM_18</th>                                  <td>   -0.2084</td> <td>    0.026</td> <td>   -7.951</td> <td> 0.000</td> <td>   -0.260</td> <td>   -0.157</td>\n",
       "</tr>\n",
       "<tr>\n",
       "  <th>TrimName_TRIM_19</th>                                  <td>    0.2137</td> <td>    0.104</td> <td>    2.064</td> <td> 0.039</td> <td>    0.011</td> <td>    0.417</td>\n",
       "</tr>\n",
       "<tr>\n",
       "  <th>TrimName_TRIM_2</th>                                   <td>    0.0769</td> <td>    0.013</td> <td>    5.950</td> <td> 0.000</td> <td>    0.052</td> <td>    0.102</td>\n",
       "</tr>\n",
       "<tr>\n",
       "  <th>TrimName_TRIM_3</th>                                   <td>    0.0445</td> <td>    0.017</td> <td>    2.695</td> <td> 0.007</td> <td>    0.012</td> <td>    0.077</td>\n",
       "</tr>\n",
       "<tr>\n",
       "  <th>TrimName_TRIM_4</th>                                   <td>   -0.0892</td> <td>    0.045</td> <td>   -1.991</td> <td> 0.046</td> <td>   -0.177</td> <td>   -0.001</td>\n",
       "</tr>\n",
       "<tr>\n",
       "  <th>TrimName_TRIM_5</th>                                   <td>   -0.0388</td> <td>    0.018</td> <td>   -2.106</td> <td> 0.035</td> <td>   -0.075</td> <td>   -0.003</td>\n",
       "</tr>\n",
       "<tr>\n",
       "  <th>TrimName_TRIM_7</th>                                   <td>    0.0559</td> <td>    0.014</td> <td>    4.021</td> <td> 0.000</td> <td>    0.029</td> <td>    0.083</td>\n",
       "</tr>\n",
       "<tr>\n",
       "  <th>TrimName_TRIM_8</th>                                   <td>   -0.2957</td> <td>    0.030</td> <td>   -9.828</td> <td> 0.000</td> <td>   -0.355</td> <td>   -0.237</td>\n",
       "</tr>\n",
       "<tr>\n",
       "  <th>TrimName_TRIM_9</th>                                   <td>   -0.1250</td> <td>    0.076</td> <td>   -1.653</td> <td> 0.098</td> <td>   -0.273</td> <td>    0.023</td>\n",
       "</tr>\n",
       "<tr>\n",
       "  <th>ModelName_MODEL_B</th>                                 <td>    0.3442</td> <td>    0.015</td> <td>   23.628</td> <td> 0.000</td> <td>    0.316</td> <td>    0.373</td>\n",
       "</tr>\n",
       "<tr>\n",
       "  <th>ModelName_MODEL_C</th>                                 <td>   -0.1895</td> <td>    0.009</td> <td>  -20.357</td> <td> 0.000</td> <td>   -0.208</td> <td>   -0.171</td>\n",
       "</tr>\n",
       "<tr>\n",
       "  <th>SalesChannel_B</th>                                    <td>   -0.0159</td> <td>    0.010</td> <td>   -1.662</td> <td> 0.097</td> <td>   -0.035</td> <td>    0.003</td>\n",
       "</tr>\n",
       "<tr>\n",
       "  <th>SalesChannel_D</th>                                    <td>   -0.0319</td> <td>    0.015</td> <td>   -2.099</td> <td> 0.036</td> <td>   -0.062</td> <td>   -0.002</td>\n",
       "</tr>\n",
       "<tr>\n",
       "  <th>SalesChannel_F</th>                                    <td>    0.0530</td> <td>    0.017</td> <td>    3.108</td> <td> 0.002</td> <td>    0.020</td> <td>    0.086</td>\n",
       "</tr>\n",
       "<tr>\n",
       "  <th>SalesChannel_G</th>                                    <td>    0.1153</td> <td>    0.013</td> <td>    8.670</td> <td> 0.000</td> <td>    0.089</td> <td>    0.141</td>\n",
       "</tr>\n",
       "<tr>\n",
       "  <th>SalesChannel_H</th>                                    <td>    0.1618</td> <td>    0.009</td> <td>   18.538</td> <td> 0.000</td> <td>    0.145</td> <td>    0.179</td>\n",
       "</tr>\n",
       "<tr>\n",
       "  <th>CarAccident_Mild</th>                                  <td>   -0.1818</td> <td>    0.019</td> <td>   -9.607</td> <td> 0.000</td> <td>   -0.219</td> <td>   -0.145</td>\n",
       "</tr>\n",
       "<tr>\n",
       "  <th>CarAccident_Moderate</th>                              <td>   -0.1578</td> <td>    0.012</td> <td>  -13.501</td> <td> 0.000</td> <td>   -0.181</td> <td>   -0.135</td>\n",
       "</tr>\n",
       "<tr>\n",
       "  <th>CarAccident_No</th>                                    <td>   -0.2012</td> <td>    0.010</td> <td>  -20.492</td> <td> 0.000</td> <td>   -0.220</td> <td>   -0.182</td>\n",
       "</tr>\n",
       "</table>\n",
       "<table class=\"simpletable\">\n",
       "<tr>\n",
       "  <th>Omnibus:</th>       <td>4745.921</td> <th>  Durbin-Watson:     </th>  <td>   1.996</td> \n",
       "</tr>\n",
       "<tr>\n",
       "  <th>Prob(Omnibus):</th>  <td> 0.000</td>  <th>  Jarque-Bera (JB):  </th> <td>176851.712</td>\n",
       "</tr>\n",
       "<tr>\n",
       "  <th>Skew:</th>           <td> 1.989</td>  <th>  Prob(JB):          </th>  <td>    0.00</td> \n",
       "</tr>\n",
       "<tr>\n",
       "  <th>Kurtosis:</th>       <td>24.749</td>  <th>  Cond. No.          </th>  <td>3.91e+06</td> \n",
       "</tr>\n",
       "</table><br/><br/>Notes:<br/>[1] Standard Errors assume that the covariance matrix of the errors is correctly specified.<br/>[2] The condition number is large, 3.91e+06. This might indicate that there are<br/>strong multicollinearity or other numerical problems."
      ],
      "text/plain": [
       "<class 'statsmodels.iolib.summary.Summary'>\n",
       "\"\"\"\n",
       "                            OLS Regression Results                            \n",
       "==============================================================================\n",
       "Dep. Variable:          RealizedValue   R-squared:                       0.631\n",
       "Model:                            OLS   Adj. R-squared:                  0.630\n",
       "Method:                 Least Squares   F-statistic:                     493.0\n",
       "Date:                Thu, 24 Nov 2022   Prob (F-statistic):               0.00\n",
       "Time:                        01:08:24   Log-Likelihood:                -1551.7\n",
       "No. Observations:                8683   AIC:                             3165.\n",
       "Df Residuals:                    8652   BIC:                             3385.\n",
       "Df Model:                          30                                         \n",
       "Covariance Type:            nonrobust                                         \n",
       "=====================================================================================================================\n",
       "                                                        coef    std err          t      P>|t|      [0.025      0.975]\n",
       "---------------------------------------------------------------------------------------------------------------------\n",
       "Intercept                                             3.2676      0.088     37.097      0.000       3.095       3.440\n",
       "PurchasingRegion                                      0.0405      0.008      5.213      0.000       0.025       0.056\n",
       "RepairCost                                        -2.338e-05   9.12e-06     -2.564      0.010   -4.12e-05   -5.51e-06\n",
       "Odometer                                           8.886e-06   1.64e-07     54.203      0.000    8.56e-06    9.21e-06\n",
       "Age                                                  -0.1190      0.004    -28.724      0.000      -0.127      -0.111\n",
       "YearsDriven                                           0.3715      0.006     58.527      0.000       0.359       0.384\n",
       "TerminationType_Terminated_Prior_to_Maturity_Date    -0.0720      0.025     -2.866      0.004      -0.121      -0.023\n",
       "TerminationType_Terminated_at_End_of_Maturity        -0.0634      0.025     -2.573      0.010      -0.112      -0.015\n",
       "TrimName_TRIM_12                                     -0.0622      0.026     -2.365      0.018      -0.114      -0.011\n",
       "TrimName_TRIM_14                                      0.0724      0.050      1.448      0.148      -0.026       0.170\n",
       "TrimName_TRIM_15                                     -0.1996      0.036     -5.596      0.000      -0.269      -0.130\n",
       "TrimName_TRIM_16                                     -0.5139      0.206     -2.500      0.012      -0.917      -0.111\n",
       "TrimName_TRIM_18                                     -0.2084      0.026     -7.951      0.000      -0.260      -0.157\n",
       "TrimName_TRIM_19                                      0.2137      0.104      2.064      0.039       0.011       0.417\n",
       "TrimName_TRIM_2                                       0.0769      0.013      5.950      0.000       0.052       0.102\n",
       "TrimName_TRIM_3                                       0.0445      0.017      2.695      0.007       0.012       0.077\n",
       "TrimName_TRIM_4                                      -0.0892      0.045     -1.991      0.046      -0.177      -0.001\n",
       "TrimName_TRIM_5                                      -0.0388      0.018     -2.106      0.035      -0.075      -0.003\n",
       "TrimName_TRIM_7                                       0.0559      0.014      4.021      0.000       0.029       0.083\n",
       "TrimName_TRIM_8                                      -0.2957      0.030     -9.828      0.000      -0.355      -0.237\n",
       "TrimName_TRIM_9                                      -0.1250      0.076     -1.653      0.098      -0.273       0.023\n",
       "ModelName_MODEL_B                                     0.3442      0.015     23.628      0.000       0.316       0.373\n",
       "ModelName_MODEL_C                                    -0.1895      0.009    -20.357      0.000      -0.208      -0.171\n",
       "SalesChannel_B                                       -0.0159      0.010     -1.662      0.097      -0.035       0.003\n",
       "SalesChannel_D                                       -0.0319      0.015     -2.099      0.036      -0.062      -0.002\n",
       "SalesChannel_F                                        0.0530      0.017      3.108      0.002       0.020       0.086\n",
       "SalesChannel_G                                        0.1153      0.013      8.670      0.000       0.089       0.141\n",
       "SalesChannel_H                                        0.1618      0.009     18.538      0.000       0.145       0.179\n",
       "CarAccident_Mild                                     -0.1818      0.019     -9.607      0.000      -0.219      -0.145\n",
       "CarAccident_Moderate                                 -0.1578      0.012    -13.501      0.000      -0.181      -0.135\n",
       "CarAccident_No                                       -0.2012      0.010    -20.492      0.000      -0.220      -0.182\n",
       "==============================================================================\n",
       "Omnibus:                     4745.921   Durbin-Watson:                   1.996\n",
       "Prob(Omnibus):                  0.000   Jarque-Bera (JB):           176851.712\n",
       "Skew:                           1.989   Prob(JB):                         0.00\n",
       "Kurtosis:                      24.749   Cond. No.                     3.91e+06\n",
       "==============================================================================\n",
       "\n",
       "Notes:\n",
       "[1] Standard Errors assume that the covariance matrix of the errors is correctly specified.\n",
       "[2] The condition number is large, 3.91e+06. This might indicate that there are\n",
       "strong multicollinearity or other numerical problems.\n",
       "\"\"\""
      ]
     },
     "execution_count": 68,
     "metadata": {},
     "output_type": "execute_result"
    }
   ],
   "source": [
    "train_df = train_X[best_variables].join(train_y)\n",
    "predictors = best_variables\n",
    "formula = outcome + ' ~ '+' + '.join(predictors)\n",
    "lm = sm.ols(formula=formula, data=train_df).fit()\n",
    "lm.summary()\n"
   ]
  },
  {
   "cell_type": "markdown",
   "metadata": {},
   "source": [
    "Residuals for the regression against the validation data are plotted.\n",
    "\n",
    "X-axis limit set manually to ignore an outlier residual with 17.5 error."
   ]
  },
  {
   "cell_type": "code",
   "execution_count": 69,
   "metadata": {},
   "outputs": [
    {
     "name": "stdout",
     "output_type": "stream",
     "text": [
      "\n",
      "Regression statistics\n",
      "\n",
      "                      Mean Error (ME) : 0.0067\n",
      "       Root Mean Squared Error (RMSE) : 0.3687\n",
      "            Mean Absolute Error (MAE) : 0.2220\n",
      "          Mean Percentage Error (MPE) : -0.9553\n",
      "Mean Absolute Percentage Error (MAPE) : 8.7900\n"
     ]
    },
    {
     "data": {
      "image/png": "[encoded data removed]",
      "text/plain": [
       "<Figure size 500x500 with 1 Axes>"
      ]
     },
     "metadata": {},
     "output_type": "display_data"
    }
   ],
   "source": [
    "lm_pred = lm.predict(valid_X)\n",
    "regressionSummary(valid_y, lm_pred)\n",
    "all_residuals = valid_y - lm_pred\n",
    "sns.displot(all_residuals)\n",
    "plt.axvline(2.8, 0,0.17)\n",
    "plt.xlim(-1,1)\n",
    "plt.xlabel('Residuals')\n",
    "plt.ylabel('Count')\n",
    "plt.show()"
   ]
  }
 ],
 "metadata": {
  "kernelspec": {
   "display_name": "Python 3.9.5 ('base')",
   "language": "python",
   "name": "python3"
  },
  "language_info": {
   "codemirror_mode": {
    "name": "ipython",
    "version": 3
   },
   "file_extension": ".py",
   "mimetype": "text/x-python",
   "name": "python",
   "nbconvert_exporter": "python",
   "pygments_lexer": "ipython3",
   "version": "3.9.5"
  },
  "orig_nbformat": 4,
  "vscode": {
   "interpreter": {
    "hash": "e744e275c6f5791f7170458a110ae94353a9fece6df38c020adc50c211e808ea"
   }
  }
 },
 "nbformat": 4,
 "nbformat_minor": 2
}
