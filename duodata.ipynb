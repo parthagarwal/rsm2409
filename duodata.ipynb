{
 "cells": [
  {
   "cell_type": "code",
   "execution_count": 63,
   "metadata": {},
   "outputs": [],
   "source": [
    "import pandas as pd\n",
    "import seaborn as sns\n",
    "import matplotlib.pyplot as plt"
   ]
  },
  {
   "cell_type": "code",
   "execution_count": 64,
   "metadata": {},
   "outputs": [
    {
     "name": "stdout",
     "output_type": "stream",
     "text": [
      "<class 'pandas.core.frame.DataFrame'>\n",
      "RangeIndex: 270 entries, 0 to 269\n",
      "Data columns (total 3 columns):\n",
      " #   Column           Non-Null Count  Dtype \n",
      "---  ------           --------------  ----- \n",
      " 0   Store            270 non-null    object\n",
      " 1   Placement Level  270 non-null    int64 \n",
      " 2   Actual Sales     270 non-null    int64 \n",
      "dtypes: int64(2), object(1)\n",
      "memory usage: 6.5+ KB\n"
     ]
    }
   ],
   "source": [
    "df = pd.read_csv('DuoData.csv')\n",
    "df.info()"
   ]
  },
  {
   "cell_type": "code",
   "execution_count": 69,
   "metadata": {},
   "outputs": [
    {
     "data": {
      "text/plain": [
       "270"
      ]
     },
     "execution_count": 69,
     "metadata": {},
     "output_type": "execute_result"
    }
   ],
   "source": [
    "# Checking that each store exists only once\n",
    "df['Store'].nunique()"
   ]
  },
  {
   "cell_type": "code",
   "execution_count": 66,
   "metadata": {},
   "outputs": [],
   "source": [
    "# Create columns for Gross Profit by multiplying the provided profit margin and the Net Profit by subtracting the placement level cost\n",
    "profit_margin = .47\n",
    "df['Gross Profit'] = df['Actual Sales'] * profit_margin\n",
    "df['Net Profit'] = df['Gross Profit'] - df['Placement Level']"
   ]
  },
  {
   "cell_type": "code",
   "execution_count": 67,
   "metadata": {},
   "outputs": [
    {
     "data": {
      "image/png": "[encoded data removed]",
      "text/plain": [
       "<Figure size 640x480 with 1 Axes>"
      ]
     },
     "metadata": {},
     "output_type": "display_data"
    }
   ],
   "source": [
    "# Histogram of Net Profit is fairly normal if outlier near 30000 is excluded --> can use mean in the aggregation by placement level\n",
    "# On another note, outlier store could be an interesting case to explore\n",
    "sns.histplot(data=df,x='Net Profit')\n",
    "plt.show()"
   ]
  },
  {
   "cell_type": "code",
   "execution_count": 68,
   "metadata": {},
   "outputs": [
    {
     "data": {
      "text/html": [
       "<div>\n",
       "<style scoped>\n",
       "    .dataframe tbody tr th:only-of-type {\n",
       "        vertical-align: middle;\n",
       "    }\n",
       "\n",
       "    .dataframe tbody tr th {\n",
       "        vertical-align: top;\n",
       "    }\n",
       "\n",
       "    .dataframe thead th {\n",
       "        text-align: right;\n",
       "    }\n",
       "</style>\n",
       "<table border=\"1\" class=\"dataframe\">\n",
       "  <thead>\n",
       "    <tr style=\"text-align: right;\">\n",
       "      <th></th>\n",
       "      <th>Actual Sales</th>\n",
       "      <th>Gross Profit</th>\n",
       "      <th>Net Profit</th>\n",
       "    </tr>\n",
       "    <tr>\n",
       "      <th>Placement Level</th>\n",
       "      <th></th>\n",
       "      <th></th>\n",
       "      <th></th>\n",
       "    </tr>\n",
       "  </thead>\n",
       "  <tbody>\n",
       "    <tr>\n",
       "      <th>0</th>\n",
       "      <td>23405.48</td>\n",
       "      <td>11000.57</td>\n",
       "      <td>11000.57</td>\n",
       "    </tr>\n",
       "    <tr>\n",
       "      <th>10000</th>\n",
       "      <td>48445.83</td>\n",
       "      <td>22769.54</td>\n",
       "      <td>12769.54</td>\n",
       "    </tr>\n",
       "    <tr>\n",
       "      <th>20000</th>\n",
       "      <td>67640.29</td>\n",
       "      <td>31790.93</td>\n",
       "      <td>11790.93</td>\n",
       "    </tr>\n",
       "    <tr>\n",
       "      <th>30000</th>\n",
       "      <td>89571.08</td>\n",
       "      <td>42098.41</td>\n",
       "      <td>12098.41</td>\n",
       "    </tr>\n",
       "    <tr>\n",
       "      <th>40000</th>\n",
       "      <td>109699.20</td>\n",
       "      <td>51558.63</td>\n",
       "      <td>11558.63</td>\n",
       "    </tr>\n",
       "  </tbody>\n",
       "</table>\n",
       "</div>"
      ],
      "text/plain": [
       "                 Actual Sales  Gross Profit  Net Profit\n",
       "Placement Level                                        \n",
       "0                    23405.48      11000.57    11000.57\n",
       "10000                48445.83      22769.54    12769.54\n",
       "20000                67640.29      31790.93    11790.93\n",
       "30000                89571.08      42098.41    12098.41\n",
       "40000               109699.20      51558.63    11558.63"
      ]
     },
     "execution_count": 68,
     "metadata": {},
     "output_type": "execute_result"
    }
   ],
   "source": [
    "# Aggregating the data to make the placement level the unit of analysis.\n",
    "df_agg = df.groupby('Placement Level').mean().round(2)\n",
    "df_agg.head()"
   ]
  },
  {
   "cell_type": "code",
   "execution_count": 81,
   "metadata": {},
   "outputs": [],
   "source": [
    "# The recommended placement level will depend upon the company's operational objectives - if they want to maximize sales or gross profits, then they should invest at the highest placement level. If they want to maximize net profits (which is more likely) then they should place at level 2 (10,000)."
   ]
  }
 ],
 "metadata": {
  "kernelspec": {
   "display_name": "Python 3.9.5 ('base')",
   "language": "python",
   "name": "python3"
  },
  "language_info": {
   "codemirror_mode": {
    "name": "ipython",
    "version": 3
   },
   "file_extension": ".py",
   "mimetype": "text/x-python",
   "name": "python",
   "nbconvert_exporter": "python",
   "pygments_lexer": "ipython3",
   "version": "3.9.5"
  },
  "orig_nbformat": 4,
  "vscode": {
   "interpreter": {
    "hash": "e744e275c6f5791f7170458a110ae94353a9fece6df38c020adc50c211e808ea"
   }
  }
 },
 "nbformat": 4,
 "nbformat_minor": 2
}
