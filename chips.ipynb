{
 "cells": [
  {
   "cell_type": "code",
   "execution_count": 5,
   "metadata": {},
   "outputs": [],
   "source": [
    "import pandas as pd\n",
    "import matplotlib.pyplot as plt\n",
    "import seaborn as sns"
   ]
  },
  {
   "cell_type": "code",
   "execution_count": 13,
   "metadata": {},
   "outputs": [],
   "source": [
    "df = pd.read_csv('chips.csv',index_col='Week No')\n",
    "df = df.iloc[:,:2]"
   ]
  },
  {
   "cell_type": "code",
   "execution_count": 21,
   "metadata": {},
   "outputs": [
    {
     "data": {
      "text/plain": [
       "count    100.000000\n",
       "mean      -0.150582\n",
       "std       35.251198\n",
       "min      -70.948004\n",
       "25%      -28.458776\n",
       "50%       -4.309903\n",
       "75%       28.535456\n",
       "max       87.311372\n",
       "Name: error, dtype: float64"
      ]
     },
     "execution_count": 21,
     "metadata": {},
     "output_type": "execute_result"
    }
   ],
   "source": [
    "df['error'] = df['Forecast'] - df['  Sales ']\n",
    "df['error'].describe()"
   ]
  },
  {
   "cell_type": "code",
   "execution_count": 26,
   "metadata": {},
   "outputs": [
    {
     "data": {
      "text/plain": [
       "count     99.000000\n",
       "mean       1.333333\n",
       "std       41.619756\n",
       "min     -104.000000\n",
       "25%      -29.000000\n",
       "50%        1.000000\n",
       "75%       29.500000\n",
       "max      117.000000\n",
       "Name: error, dtype: float64"
      ]
     },
     "execution_count": 26,
     "metadata": {},
     "output_type": "execute_result"
    }
   ],
   "source": [
    "df1 = df.copy()\n",
    "df1['Forecast'] = df1['  Sales '].shift(-1)\n",
    "df1['error'] = df1['Forecast'] - df1['  Sales ']\n",
    "df1['error'].describe()"
   ]
  },
  {
   "cell_type": "code",
   "execution_count": 30,
   "metadata": {},
   "outputs": [
    {
     "data": {
      "text/plain": [
       "count    100.000000\n",
       "mean      -2.665000\n",
       "std       35.317906\n",
       "min      -71.380000\n",
       "25%      -29.932500\n",
       "50%       -8.620000\n",
       "75%       27.047500\n",
       "max       70.220000\n",
       "Name: error, dtype: float64"
      ]
     },
     "execution_count": 30,
     "metadata": {},
     "output_type": "execute_result"
    }
   ],
   "source": [
    "df2 = df.copy()\n",
    "df2['Forecast'] = 410 + .61 * df2.index\n",
    "df2['error'] = df2['Forecast'] - df2['  Sales ']\n",
    "df2['error'].describe()"
   ]
  },
  {
   "cell_type": "code",
   "execution_count": 39,
   "metadata": {},
   "outputs": [
    {
     "data": {
      "text/plain": [
       "count    100.000000\n",
       "mean      -4.766398\n",
       "std       31.558229\n",
       "min      -69.500000\n",
       "25%      -30.500000\n",
       "50%       -8.583333\n",
       "75%       22.416667\n",
       "max       64.166667\n",
       "Name: error, dtype: float64"
      ]
     },
     "execution_count": 39,
     "metadata": {},
     "output_type": "execute_result"
    }
   ],
   "source": [
    "df3 = df.copy()\n",
    "df3['Forecast'] = df3['  Sales '].rolling(window=12,min_periods=0).mean()\n",
    "df3['error'] = df3['Forecast'] - df3['  Sales ']\n",
    "df3.head()\n",
    "df3['error'].describe()"
   ]
  },
  {
   "cell_type": "code",
   "execution_count": 46,
   "metadata": {},
   "outputs": [
    {
     "data": {
      "text/plain": [
       "31.558228904396216"
      ]
     },
     "execution_count": 46,
     "metadata": {},
     "output_type": "execute_result"
    }
   ],
   "source": [
    "min([df['error'].std(),df1['error'].std(),df2['error'].std(),df3['error'].std()])"
   ]
  }
 ],
 "metadata": {
  "kernelspec": {
   "display_name": "Python 3.9.5 ('base')",
   "language": "python",
   "name": "python3"
  },
  "language_info": {
   "codemirror_mode": {
    "name": "ipython",
    "version": 3
   },
   "file_extension": ".py",
   "mimetype": "text/x-python",
   "name": "python",
   "nbconvert_exporter": "python",
   "pygments_lexer": "ipython3",
   "version": "3.9.5"
  },
  "orig_nbformat": 4,
  "vscode": {
   "interpreter": {
    "hash": "e744e275c6f5791f7170458a110ae94353a9fece6df38c020adc50c211e808ea"
   }
  }
 },
 "nbformat": 4,
 "nbformat_minor": 2
}
